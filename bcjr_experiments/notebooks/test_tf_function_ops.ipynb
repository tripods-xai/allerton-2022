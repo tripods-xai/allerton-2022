{
 "cells": [
  {
   "cell_type": "code",
   "execution_count": 1,
   "metadata": {},
   "outputs": [],
   "source": [
    "import tensorflow as tf"
   ]
  },
  {
   "cell_type": "code",
   "execution_count": 8,
   "metadata": {},
   "outputs": [],
   "source": [
    "def test(tensor: tf.Tensor):\n",
    "    B = tf.TensorArray(tf.int32, size=tf.math.reduce_sum(tensor), clear_after_read=False)\n",
    "    for t in tensor:\n",
    "        for i in tf.range(t):\n",
    "            B.write(i, tf.constant(i))\n",
    "    return B.stack()\n",
    "\n",
    "# def to_map(arr: tf.TensorArray, i: tf.Tensor):\n",
    "#     arr.write()\n",
    "\n",
    "# def test2(tensor: tf.Tensor):\n",
    "#     B = tf.TensorArray(tf.int32, size=tf.math.reduce_sum(tensor), clear_after_read=False)\n",
    "#     for t in tensor:\n",
    "#         for i in tf.range(t):\n",
    "#             B.write(i, tf.constant(i))\n",
    "#     return B.stack()"
   ]
  },
  {
   "cell_type": "code",
   "execution_count": 9,
   "metadata": {},
   "outputs": [
    {
     "name": "stdout",
     "output_type": "stream",
     "text": [
      "ERROR:tensorflow:==================================\n",
      "Object was never used (type <class 'tensorflow.python.ops.tensor_array_ops.TensorArray'>):\n",
      "<tensorflow.python.ops.tensor_array_ops.TensorArray object at 0x7f3a882a95e0>\n",
      "If you want to mark it as used call its \"mark_used()\" method.\n",
      "It was originally created here:\n",
      "  File \"/home/abhijeet/miniconda3/envs/turbo-codes/lib/python3.8/site-packages/IPython/core/interactiveshell.py\", line 3338, in run_ast_nodes\n",
      "    if await self.run_code(code, result, async_=asy):  File \"/home/abhijeet/miniconda3/envs/turbo-codes/lib/python3.8/site-packages/IPython/core/interactiveshell.py\", line 3398, in run_code\n",
      "    exec(code_obj, self.user_global_ns, self.user_ns)  File \"<ipython-input-9-f1ae6fe6fee6>\", line 1, in <cell line: 1>\n",
      "    test(tf.constant([3, 1, 5]))  File \"<ipython-input-8-639a2b260758>\", line 5, in test\n",
      "    B.write(i, tf.constant(i))  File \"/home/abhijeet/miniconda3/envs/turbo-codes/lib/python3.8/site-packages/tensorflow/python/util/tf_should_use.py\", line 243, in wrapped\n",
      "    return _add_should_use_warning(fn(*args, **kwargs),\n",
      "==================================\n",
      "ERROR:tensorflow:==================================\n",
      "Object was never used (type <class 'tensorflow.python.ops.tensor_array_ops.TensorArray'>):\n",
      "<tensorflow.python.ops.tensor_array_ops.TensorArray object at 0x7f3a882a95e0>\n",
      "If you want to mark it as used call its \"mark_used()\" method.\n",
      "It was originally created here:\n",
      "  File \"/home/abhijeet/miniconda3/envs/turbo-codes/lib/python3.8/site-packages/IPython/core/interactiveshell.py\", line 3338, in run_ast_nodes\n",
      "    if await self.run_code(code, result, async_=asy):  File \"/home/abhijeet/miniconda3/envs/turbo-codes/lib/python3.8/site-packages/IPython/core/interactiveshell.py\", line 3398, in run_code\n",
      "    exec(code_obj, self.user_global_ns, self.user_ns)  File \"<ipython-input-9-f1ae6fe6fee6>\", line 1, in <cell line: 1>\n",
      "    test(tf.constant([3, 1, 5]))  File \"<ipython-input-8-639a2b260758>\", line 5, in test\n",
      "    B.write(i, tf.constant(i))  File \"/home/abhijeet/miniconda3/envs/turbo-codes/lib/python3.8/site-packages/tensorflow/python/util/tf_should_use.py\", line 243, in wrapped\n",
      "    return _add_should_use_warning(fn(*args, **kwargs),\n",
      "==================================\n",
      "ERROR:tensorflow:==================================\n",
      "Object was never used (type <class 'tensorflow.python.ops.tensor_array_ops.TensorArray'>):\n",
      "<tensorflow.python.ops.tensor_array_ops.TensorArray object at 0x7f3a882a95e0>\n",
      "If you want to mark it as used call its \"mark_used()\" method.\n",
      "It was originally created here:\n",
      "  File \"/home/abhijeet/miniconda3/envs/turbo-codes/lib/python3.8/site-packages/IPython/core/interactiveshell.py\", line 3338, in run_ast_nodes\n",
      "    if await self.run_code(code, result, async_=asy):  File \"/home/abhijeet/miniconda3/envs/turbo-codes/lib/python3.8/site-packages/IPython/core/interactiveshell.py\", line 3398, in run_code\n",
      "    exec(code_obj, self.user_global_ns, self.user_ns)  File \"<ipython-input-9-f1ae6fe6fee6>\", line 1, in <cell line: 1>\n",
      "    test(tf.constant([3, 1, 5]))  File \"<ipython-input-8-639a2b260758>\", line 5, in test\n",
      "    B.write(i, tf.constant(i))  File \"/home/abhijeet/miniconda3/envs/turbo-codes/lib/python3.8/site-packages/tensorflow/python/util/tf_should_use.py\", line 243, in wrapped\n",
      "    return _add_should_use_warning(fn(*args, **kwargs),\n",
      "==================================\n",
      "ERROR:tensorflow:==================================\n",
      "Object was never used (type <class 'tensorflow.python.ops.tensor_array_ops.TensorArray'>):\n",
      "<tensorflow.python.ops.tensor_array_ops.TensorArray object at 0x7f3a882a95e0>\n",
      "If you want to mark it as used call its \"mark_used()\" method.\n",
      "It was originally created here:\n",
      "  File \"/home/abhijeet/miniconda3/envs/turbo-codes/lib/python3.8/site-packages/IPython/core/interactiveshell.py\", line 3338, in run_ast_nodes\n",
      "    if await self.run_code(code, result, async_=asy):  File \"/home/abhijeet/miniconda3/envs/turbo-codes/lib/python3.8/site-packages/IPython/core/interactiveshell.py\", line 3398, in run_code\n",
      "    exec(code_obj, self.user_global_ns, self.user_ns)  File \"<ipython-input-9-f1ae6fe6fee6>\", line 1, in <cell line: 1>\n",
      "    test(tf.constant([3, 1, 5]))  File \"<ipython-input-8-639a2b260758>\", line 5, in test\n",
      "    B.write(i, tf.constant(i))  File \"/home/abhijeet/miniconda3/envs/turbo-codes/lib/python3.8/site-packages/tensorflow/python/util/tf_should_use.py\", line 243, in wrapped\n",
      "    return _add_should_use_warning(fn(*args, **kwargs),\n",
      "==================================\n",
      "ERROR:tensorflow:==================================\n",
      "Object was never used (type <class 'tensorflow.python.ops.tensor_array_ops.TensorArray'>):\n",
      "<tensorflow.python.ops.tensor_array_ops.TensorArray object at 0x7f3a882a95e0>\n",
      "If you want to mark it as used call its \"mark_used()\" method.\n",
      "It was originally created here:\n",
      "  File \"/home/abhijeet/miniconda3/envs/turbo-codes/lib/python3.8/site-packages/IPython/core/interactiveshell.py\", line 3338, in run_ast_nodes\n",
      "    if await self.run_code(code, result, async_=asy):  File \"/home/abhijeet/miniconda3/envs/turbo-codes/lib/python3.8/site-packages/IPython/core/interactiveshell.py\", line 3398, in run_code\n",
      "    exec(code_obj, self.user_global_ns, self.user_ns)  File \"<ipython-input-9-f1ae6fe6fee6>\", line 1, in <cell line: 1>\n",
      "    test(tf.constant([3, 1, 5]))  File \"<ipython-input-8-639a2b260758>\", line 5, in test\n",
      "    B.write(i, tf.constant(i))  File \"/home/abhijeet/miniconda3/envs/turbo-codes/lib/python3.8/site-packages/tensorflow/python/util/tf_should_use.py\", line 243, in wrapped\n",
      "    return _add_should_use_warning(fn(*args, **kwargs),\n",
      "==================================\n",
      "ERROR:tensorflow:==================================\n",
      "Object was never used (type <class 'tensorflow.python.ops.tensor_array_ops.TensorArray'>):\n",
      "<tensorflow.python.ops.tensor_array_ops.TensorArray object at 0x7f3a882a95e0>\n",
      "If you want to mark it as used call its \"mark_used()\" method.\n",
      "It was originally created here:\n",
      "  File \"/home/abhijeet/miniconda3/envs/turbo-codes/lib/python3.8/site-packages/IPython/core/interactiveshell.py\", line 3338, in run_ast_nodes\n",
      "    if await self.run_code(code, result, async_=asy):  File \"/home/abhijeet/miniconda3/envs/turbo-codes/lib/python3.8/site-packages/IPython/core/interactiveshell.py\", line 3398, in run_code\n",
      "    exec(code_obj, self.user_global_ns, self.user_ns)  File \"<ipython-input-9-f1ae6fe6fee6>\", line 1, in <cell line: 1>\n",
      "    test(tf.constant([3, 1, 5]))  File \"<ipython-input-8-639a2b260758>\", line 5, in test\n",
      "    B.write(i, tf.constant(i))  File \"/home/abhijeet/miniconda3/envs/turbo-codes/lib/python3.8/site-packages/tensorflow/python/util/tf_should_use.py\", line 243, in wrapped\n",
      "    return _add_should_use_warning(fn(*args, **kwargs),\n",
      "==================================\n",
      "ERROR:tensorflow:==================================\n",
      "Object was never used (type <class 'tensorflow.python.ops.tensor_array_ops.TensorArray'>):\n",
      "<tensorflow.python.ops.tensor_array_ops.TensorArray object at 0x7f3a882a95e0>\n",
      "If you want to mark it as used call its \"mark_used()\" method.\n",
      "It was originally created here:\n",
      "  File \"/home/abhijeet/miniconda3/envs/turbo-codes/lib/python3.8/site-packages/IPython/core/interactiveshell.py\", line 3338, in run_ast_nodes\n",
      "    if await self.run_code(code, result, async_=asy):  File \"/home/abhijeet/miniconda3/envs/turbo-codes/lib/python3.8/site-packages/IPython/core/interactiveshell.py\", line 3398, in run_code\n",
      "    exec(code_obj, self.user_global_ns, self.user_ns)  File \"<ipython-input-9-f1ae6fe6fee6>\", line 1, in <cell line: 1>\n",
      "    test(tf.constant([3, 1, 5]))  File \"<ipython-input-8-639a2b260758>\", line 5, in test\n",
      "    B.write(i, tf.constant(i))  File \"/home/abhijeet/miniconda3/envs/turbo-codes/lib/python3.8/site-packages/tensorflow/python/util/tf_should_use.py\", line 243, in wrapped\n",
      "    return _add_should_use_warning(fn(*args, **kwargs),\n",
      "==================================\n",
      "ERROR:tensorflow:==================================\n",
      "Object was never used (type <class 'tensorflow.python.ops.tensor_array_ops.TensorArray'>):\n",
      "<tensorflow.python.ops.tensor_array_ops.TensorArray object at 0x7f3a882a95e0>\n",
      "If you want to mark it as used call its \"mark_used()\" method.\n",
      "It was originally created here:\n",
      "  File \"/home/abhijeet/miniconda3/envs/turbo-codes/lib/python3.8/site-packages/IPython/core/interactiveshell.py\", line 3338, in run_ast_nodes\n",
      "    if await self.run_code(code, result, async_=asy):  File \"/home/abhijeet/miniconda3/envs/turbo-codes/lib/python3.8/site-packages/IPython/core/interactiveshell.py\", line 3398, in run_code\n",
      "    exec(code_obj, self.user_global_ns, self.user_ns)  File \"<ipython-input-9-f1ae6fe6fee6>\", line 1, in <cell line: 1>\n",
      "    test(tf.constant([3, 1, 5]))  File \"<ipython-input-8-639a2b260758>\", line 5, in test\n",
      "    B.write(i, tf.constant(i))  File \"/home/abhijeet/miniconda3/envs/turbo-codes/lib/python3.8/site-packages/tensorflow/python/util/tf_should_use.py\", line 243, in wrapped\n",
      "    return _add_should_use_warning(fn(*args, **kwargs),\n",
      "==================================\n",
      "ERROR:tensorflow:==================================\n",
      "Object was never used (type <class 'tensorflow.python.ops.tensor_array_ops.TensorArray'>):\n",
      "<tensorflow.python.ops.tensor_array_ops.TensorArray object at 0x7f3a882a95e0>\n",
      "If you want to mark it as used call its \"mark_used()\" method.\n",
      "It was originally created here:\n",
      "  File \"/home/abhijeet/miniconda3/envs/turbo-codes/lib/python3.8/site-packages/IPython/core/interactiveshell.py\", line 3338, in run_ast_nodes\n",
      "    if await self.run_code(code, result, async_=asy):  File \"/home/abhijeet/miniconda3/envs/turbo-codes/lib/python3.8/site-packages/IPython/core/interactiveshell.py\", line 3398, in run_code\n",
      "    exec(code_obj, self.user_global_ns, self.user_ns)  File \"<ipython-input-9-f1ae6fe6fee6>\", line 1, in <cell line: 1>\n",
      "    test(tf.constant([3, 1, 5]))  File \"<ipython-input-8-639a2b260758>\", line 5, in test\n",
      "    B.write(i, tf.constant(i))  File \"/home/abhijeet/miniconda3/envs/turbo-codes/lib/python3.8/site-packages/tensorflow/python/util/tf_should_use.py\", line 243, in wrapped\n",
      "    return _add_should_use_warning(fn(*args, **kwargs),\n",
      "==================================\n"
     ]
    },
    {
     "data": {
      "text/plain": [
       "<tf.Tensor: shape=(9,), dtype=int32, numpy=array([0, 1, 2, 3, 4, 0, 0, 0, 0], dtype=int32)>"
      ]
     },
     "execution_count": 9,
     "metadata": {},
     "output_type": "execute_result"
    }
   ],
   "source": [
    "test(tf.constant([3, 1, 5]))"
   ]
  },
  {
   "cell_type": "code",
   "execution_count": null,
   "metadata": {},
   "outputs": [],
   "source": []
  }
 ],
 "metadata": {
  "kernelspec": {
   "display_name": "Python 3.8.10 ('turbo-codes')",
   "language": "python",
   "name": "python3"
  },
  "language_info": {
   "codemirror_mode": {
    "name": "ipython",
    "version": 3
   },
   "file_extension": ".py",
   "mimetype": "text/x-python",
   "name": "python",
   "nbconvert_exporter": "python",
   "pygments_lexer": "ipython3",
   "version": "3.8.10"
  },
  "orig_nbformat": 4,
  "vscode": {
   "interpreter": {
    "hash": "d295648d7b97c4542d27f42be2578e1178ec632847ecbc7932f89911961cc07f"
   }
  }
 },
 "nbformat": 4,
 "nbformat_minor": 2
}
