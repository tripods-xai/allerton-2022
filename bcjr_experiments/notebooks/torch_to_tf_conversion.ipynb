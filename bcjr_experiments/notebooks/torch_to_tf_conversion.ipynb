{
 "cells": [
  {
   "cell_type": "code",
   "execution_count": 1,
   "metadata": {},
   "outputs": [
    {
     "name": "stderr",
     "output_type": "stream",
     "text": [
      "/home/abhijeet/anaconda3/envs/turbo/lib/python3.9/site-packages/tqdm/auto.py:22: TqdmWarning: IProgress not found. Please update jupyter and ipywidgets. See https://ipywidgets.readthedocs.io/en/stable/user_install.html\n",
      "  from .autonotebook import tqdm as notebook_tqdm\n",
      "2022-05-13 19:34:51.257627: W tensorflow/stream_executor/platform/default/dso_loader.cc:64] Could not load dynamic library 'libcudart.so.11.0'; dlerror: libcudart.so.11.0: cannot open shared object file: No such file or directory\n",
      "2022-05-13 19:34:51.257665: I tensorflow/stream_executor/cuda/cudart_stub.cc:29] Ignore above cudart dlerror if you do not have a GPU set up on your machine.\n",
      "2022-05-13 19:34:53.240948: I tensorflow/stream_executor/cuda/cuda_gpu_executor.cc:936] successful NUMA node read from SysFS had negative value (-1), but there must be at least one NUMA node, so returning NUMA node zero\n",
      "2022-05-13 19:34:53.241323: W tensorflow/stream_executor/platform/default/dso_loader.cc:64] Could not load dynamic library 'libcudart.so.11.0'; dlerror: libcudart.so.11.0: cannot open shared object file: No such file or directory\n",
      "2022-05-13 19:34:53.241383: W tensorflow/stream_executor/platform/default/dso_loader.cc:64] Could not load dynamic library 'libcublas.so.11'; dlerror: libcublas.so.11: cannot open shared object file: No such file or directory\n",
      "2022-05-13 19:34:53.241433: W tensorflow/stream_executor/platform/default/dso_loader.cc:64] Could not load dynamic library 'libcublasLt.so.11'; dlerror: libcublasLt.so.11: cannot open shared object file: No such file or directory\n",
      "2022-05-13 19:34:53.241482: W tensorflow/stream_executor/platform/default/dso_loader.cc:64] Could not load dynamic library 'libcufft.so.10'; dlerror: libcufft.so.10: cannot open shared object file: No such file or directory\n",
      "2022-05-13 19:34:53.241530: W tensorflow/stream_executor/platform/default/dso_loader.cc:64] Could not load dynamic library 'libcurand.so.10'; dlerror: libcurand.so.10: cannot open shared object file: No such file or directory\n",
      "2022-05-13 19:34:53.241579: W tensorflow/stream_executor/platform/default/dso_loader.cc:64] Could not load dynamic library 'libcusolver.so.11'; dlerror: libcusolver.so.11: cannot open shared object file: No such file or directory\n",
      "2022-05-13 19:34:53.241625: W tensorflow/stream_executor/platform/default/dso_loader.cc:64] Could not load dynamic library 'libcusparse.so.11'; dlerror: libcusparse.so.11: cannot open shared object file: No such file or directory\n",
      "2022-05-13 19:34:53.241673: W tensorflow/stream_executor/platform/default/dso_loader.cc:64] Could not load dynamic library 'libcudnn.so.8'; dlerror: libcudnn.so.8: cannot open shared object file: No such file or directory\n",
      "2022-05-13 19:34:53.241685: W tensorflow/core/common_runtime/gpu/gpu_device.cc:1850] Cannot dlopen some GPU libraries. Please make sure the missing libraries mentioned above are installed properly if you would like to use GPU. Follow the guide at https://www.tensorflow.org/install/gpu for how to download and setup the required libraries for your platform.\n",
      "Skipping registering GPU devices...\n",
      "2022-05-13 19:34:53.242049: I tensorflow/core/platform/cpu_feature_guard.cc:151] This TensorFlow binary is optimized with oneAPI Deep Neural Network Library (oneDNN) to use the following CPU instructions in performance-critical operations:  AVX2 FMA\n",
      "To enable them in other operations, rebuild TensorFlow with the appropriate compiler flags.\n"
     ]
    }
   ],
   "source": [
    "\n",
    "%load_ext autoreload\n",
    "%autoreload 2\n",
    "\n",
    "import torch\n",
    "import tensorflow as tf\n",
    "\n",
    "from src.turboae_adapters.dataclasses import TurboAEEncoderParameters, ENCODER_PYTORCH_PARAMETER_NAMES\n",
    "from src.turboae_adapters.encoders import TFTurboAEEncoderCNN\n",
    "from src.codes import turboae_binary_exact_nonsys, turboae_approximated_nonsys\n",
    "from src.turboae_adapters.encoder_decoders import load_tf_turboae_decoder, TurboAEHybridEncoderDecoder\n",
    "\n",
    "from src.channelcoding.channels import NoiselessChannel\n",
    "\n",
    "from pprint import pprint"
   ]
  },
  {
   "cell_type": "code",
   "execution_count": 2,
   "metadata": {},
   "outputs": [],
   "source": [
    "DECODER_MODEL_PATH = '../turboae_models/629284_dta_steq2_cnn2_cnn5_enctrain2_dectrainneg15_2_dec.pt'\n",
    "ENCODER_MODEL_PATH = '../turboae_models/222877_dta_steq2_cnn2_cnn5_enctrain2_dectrainneg15_2_enc.pt'\n"
   ]
  },
  {
   "cell_type": "code",
   "execution_count": 3,
   "metadata": {},
   "outputs": [],
   "source": [
    "decoder_state_dict = torch.load(DECODER_MODEL_PATH)\n",
    "encoder_state_dict = torch.load(ENCODER_MODEL_PATH)"
   ]
  },
  {
   "cell_type": "code",
   "execution_count": 4,
   "metadata": {},
   "outputs": [],
   "source": [
    "def load_tf_turboae_encoder(model_path, block_len=100) -> TFTurboAEEncoderCNN:\n",
    "    torch_state_dict = torch.load(model_path)\n",
    "    params = TurboAEEncoderParameters.from_pytorch(torch_state_dict)\n",
    "    tf_model = TFTurboAEEncoderCNN(params, block_len=block_len)\n",
    "    \n",
    "    return tf_model\n",
    "\n",
    "tf_encoder = load_tf_turboae_encoder(ENCODER_MODEL_PATH)"
   ]
  },
  {
   "cell_type": "code",
   "execution_count": 10,
   "metadata": {},
   "outputs": [],
   "source": [
    "tf_decoder = load_tf_turboae_decoder(DECODER_MODEL_PATH, block_len=100)"
   ]
  },
  {
   "cell_type": "code",
   "execution_count": 5,
   "metadata": {},
   "outputs": [],
   "source": [
    "code_spec = turboae_binary_exact_nonsys(delay=2)\n",
    "interleaver = tf_encoder.interleaver\n",
    "exact_encoder = code_spec.noninterleaved_code.concat(interleaver.and_then(code_spec.interleaved_code))\n",
    "\n",
    "approximated_code_spec = turboae_approximated_nonsys(delay=2)\n",
    "approximated_encoder = approximated_code_spec.noninterleaved_code.concat(interleaver.and_then(approximated_code_spec.interleaved_code))"
   ]
  },
  {
   "cell_type": "code",
   "execution_count": 7,
   "metadata": {},
   "outputs": [
    {
     "data": {
      "text/plain": [
       "<tf.Tensor: shape=(100, 9), dtype=int8, numpy=\n",
       "array([[0, 0, 0, 1, 1, 0, 1, 1, 0],\n",
       "       [0, 0, 1, 1, 0, 1, 1, 0, 1],\n",
       "       [0, 1, 0, 0, 1, 0, 0, 1, 0],\n",
       "       [0, 0, 1, 0, 0, 1, 0, 0, 1],\n",
       "       [1, 1, 1, 1, 1, 1, 1, 1, 1],\n",
       "       [0, 1, 1, 0, 1, 1, 0, 1, 0],\n",
       "       [0, 0, 1, 0, 0, 1, 0, 0, 0],\n",
       "       [0, 1, 0, 0, 1, 0, 0, 1, 0],\n",
       "       [1, 1, 1, 1, 1, 1, 1, 1, 1],\n",
       "       [0, 1, 0, 0, 1, 0, 0, 1, 0],\n",
       "       [1, 1, 0, 1, 1, 0, 1, 1, 0],\n",
       "       [0, 0, 0, 0, 0, 0, 1, 0, 0],\n",
       "       [1, 0, 0, 1, 0, 0, 1, 0, 0],\n",
       "       [0, 0, 1, 0, 0, 1, 0, 0, 0],\n",
       "       [1, 1, 0, 1, 1, 0, 1, 1, 0],\n",
       "       [1, 0, 0, 1, 0, 0, 1, 0, 0],\n",
       "       [0, 1, 1, 0, 1, 1, 0, 1, 1],\n",
       "       [0, 0, 1, 0, 0, 1, 0, 0, 0],\n",
       "       [1, 1, 0, 1, 1, 0, 1, 1, 1],\n",
       "       [0, 1, 0, 0, 1, 0, 0, 1, 0],\n",
       "       [1, 1, 0, 1, 1, 0, 1, 1, 0],\n",
       "       [0, 0, 0, 0, 0, 0, 0, 0, 0],\n",
       "       [1, 0, 0, 1, 0, 0, 1, 0, 0],\n",
       "       [0, 1, 0, 0, 1, 0, 0, 1, 1],\n",
       "       [1, 1, 1, 1, 1, 1, 1, 1, 1],\n",
       "       [0, 0, 1, 0, 0, 1, 1, 0, 1],\n",
       "       [0, 0, 1, 0, 0, 1, 0, 0, 1],\n",
       "       [1, 1, 1, 1, 1, 1, 1, 1, 1],\n",
       "       [1, 1, 0, 1, 1, 0, 1, 1, 0],\n",
       "       [1, 1, 1, 1, 1, 1, 1, 1, 1],\n",
       "       [0, 1, 0, 0, 1, 0, 0, 1, 0],\n",
       "       [1, 0, 1, 1, 0, 1, 1, 0, 1],\n",
       "       [1, 0, 0, 1, 0, 0, 1, 0, 0],\n",
       "       [0, 0, 0, 0, 0, 0, 0, 0, 0],\n",
       "       [1, 1, 1, 1, 1, 1, 0, 1, 0],\n",
       "       [1, 0, 0, 1, 0, 0, 1, 0, 0],\n",
       "       [1, 1, 1, 1, 1, 1, 1, 1, 1],\n",
       "       [0, 0, 1, 0, 0, 1, 1, 0, 1],\n",
       "       [0, 0, 1, 0, 0, 1, 0, 0, 1],\n",
       "       [0, 0, 0, 0, 0, 0, 0, 0, 0],\n",
       "       [0, 1, 0, 0, 1, 0, 0, 1, 0],\n",
       "       [0, 0, 0, 0, 0, 0, 0, 0, 1],\n",
       "       [0, 0, 1, 0, 0, 1, 1, 0, 1],\n",
       "       [0, 1, 0, 0, 1, 0, 0, 1, 0],\n",
       "       [1, 0, 1, 1, 0, 1, 1, 0, 1],\n",
       "       [0, 0, 0, 0, 0, 0, 0, 0, 0],\n",
       "       [1, 1, 0, 1, 1, 0, 0, 1, 1],\n",
       "       [1, 0, 1, 1, 0, 1, 1, 0, 1],\n",
       "       [1, 1, 0, 1, 1, 0, 1, 1, 0],\n",
       "       [1, 1, 0, 1, 1, 0, 0, 1, 0],\n",
       "       [1, 0, 1, 1, 0, 1, 1, 0, 1],\n",
       "       [0, 0, 1, 0, 0, 1, 0, 0, 1],\n",
       "       [0, 0, 1, 0, 0, 1, 0, 0, 1],\n",
       "       [1, 1, 0, 1, 1, 0, 1, 1, 0],\n",
       "       [0, 0, 0, 0, 0, 0, 0, 0, 0],\n",
       "       [0, 0, 0, 0, 0, 0, 0, 0, 1],\n",
       "       [1, 1, 0, 1, 1, 0, 1, 1, 0],\n",
       "       [1, 0, 1, 1, 0, 1, 1, 0, 1],\n",
       "       [1, 1, 1, 1, 1, 1, 1, 1, 0],\n",
       "       [0, 0, 0, 0, 0, 0, 0, 0, 0],\n",
       "       [0, 1, 1, 0, 1, 1, 0, 1, 1],\n",
       "       [1, 1, 0, 1, 1, 0, 1, 1, 1],\n",
       "       [1, 1, 1, 1, 1, 1, 1, 1, 1],\n",
       "       [1, 1, 0, 1, 1, 0, 1, 1, 0],\n",
       "       [0, 0, 0, 0, 0, 0, 0, 0, 1],\n",
       "       [0, 0, 0, 0, 0, 0, 0, 0, 0],\n",
       "       [0, 0, 1, 0, 0, 1, 0, 0, 1],\n",
       "       [1, 1, 0, 1, 1, 0, 1, 1, 1],\n",
       "       [1, 0, 0, 1, 0, 0, 1, 0, 0],\n",
       "       [0, 0, 1, 0, 0, 1, 0, 0, 1],\n",
       "       [0, 1, 1, 0, 1, 1, 0, 1, 1],\n",
       "       [1, 1, 1, 1, 1, 1, 1, 1, 1],\n",
       "       [0, 1, 0, 0, 1, 0, 0, 1, 0],\n",
       "       [0, 0, 1, 0, 0, 1, 0, 0, 1],\n",
       "       [0, 0, 1, 0, 0, 1, 0, 0, 0],\n",
       "       [0, 1, 0, 0, 1, 0, 0, 1, 1],\n",
       "       [1, 1, 0, 1, 1, 0, 1, 1, 0],\n",
       "       [0, 0, 1, 0, 0, 1, 0, 0, 1],\n",
       "       [0, 1, 0, 0, 1, 0, 0, 1, 0],\n",
       "       [1, 1, 1, 1, 1, 1, 1, 1, 1],\n",
       "       [0, 0, 1, 0, 0, 1, 0, 0, 1],\n",
       "       [1, 0, 1, 1, 0, 1, 1, 0, 1],\n",
       "       [1, 0, 1, 1, 0, 1, 1, 0, 1],\n",
       "       [1, 0, 1, 1, 0, 1, 1, 0, 1],\n",
       "       [1, 1, 0, 1, 1, 0, 1, 1, 0],\n",
       "       [1, 1, 1, 1, 1, 1, 1, 1, 1],\n",
       "       [1, 0, 1, 1, 0, 1, 1, 0, 0],\n",
       "       [0, 1, 1, 0, 1, 1, 0, 1, 0],\n",
       "       [0, 0, 0, 0, 0, 0, 0, 0, 0],\n",
       "       [0, 0, 0, 0, 0, 0, 0, 0, 0],\n",
       "       [1, 1, 1, 1, 1, 1, 1, 1, 1],\n",
       "       [1, 1, 1, 1, 1, 1, 1, 1, 0],\n",
       "       [0, 1, 1, 0, 1, 1, 0, 1, 1],\n",
       "       [1, 0, 1, 1, 0, 1, 1, 0, 1],\n",
       "       [0, 1, 1, 0, 1, 1, 0, 1, 1],\n",
       "       [0, 1, 0, 0, 1, 0, 0, 1, 0],\n",
       "       [0, 0, 1, 0, 0, 1, 0, 0, 1],\n",
       "       [1, 1, 1, 1, 1, 1, 0, 1, 1],\n",
       "       [1, 1, 1, 0, 1, 1, 0, 1, 0],\n",
       "       [1, 0, 1, 0, 1, 0, 0, 1, 1]], dtype=int8)>"
      ]
     },
     "execution_count": 7,
     "metadata": {},
     "output_type": "execute_result"
    }
   ],
   "source": [
    "test_msg = tf.cast(tf.random.uniform(shape=[1, 100, 1], minval=0, maxval=2, dtype=tf.int32), dtype=tf.float32)\n",
    "\n",
    "exact_encoded = exact_encoder(test_msg)\n",
    "approximated_encoded = approximated_encoder(test_msg)\n",
    "tf_encoded = (tf_encoder(test_msg) + 1.) / 2.\n",
    "\n",
    "tf.cast(tf.concat([tf_encoded, exact_encoded, approximated_encoded], axis=2)[0], dtype=tf.int8)"
   ]
  },
  {
   "cell_type": "code",
   "execution_count": 27,
   "metadata": {},
   "outputs": [
    {
     "name": "stdout",
     "output_type": "stream",
     "text": [
      "Middle matches True\n",
      "# of matches 96\n",
      "Middle matches True\n",
      "# of matches 97\n",
      "Middle matches True\n",
      "# of matches 96\n",
      "Middle matches True\n",
      "# of matches 96\n",
      "Middle matches True\n",
      "# of matches 96\n",
      "Middle matches True\n",
      "# of matches 97\n",
      "Middle matches True\n",
      "# of matches 96\n",
      "Middle matches True\n",
      "# of matches 96\n",
      "Middle matches True\n",
      "# of matches 96\n",
      "Middle matches True\n",
      "# of matches 97\n"
     ]
    }
   ],
   "source": [
    "for i in range(1):\n",
    "    test_msg = tf.cast(tf.random.uniform(shape=[1, 100, 1], minval=0, maxval=2, dtype=tf.int32), dtype=tf.float32)\n",
    "\n",
    "    exact_encoded = exact_encoder(test_msg)\n",
    "    approximated_encoded = approximated_encoder(test_msg)\n",
    "    tf_encoded = (tf_encoder(test_msg) + 1.) / 2.\n",
    "\n",
    "    matches = tf.reduce_all(tf_encoded == exact_encoded, axis=2)[0]\n",
    "    # pprint(matches)\n",
    "    middle_does_match = tf.reduce_all(matches[2:-2])\n",
    "    total_matches = tf.reduce_sum(tf.cast(matches, dtype=tf.int32))\n",
    "    print(f\"Middle matches {middle_does_match.numpy()}\")\n",
    "    print(f\"# of matches {total_matches.numpy()}\")\n",
    "    # pprint(matches)\n",
    "    # together = tf.cast(tf.concat([tf_encoded[0], exact_encoded[0]], axis=1), dtype=tf.int32)\n",
    "    # pprint(together.numpy())"
   ]
  },
  {
   "cell_type": "code",
   "execution_count": 3,
   "metadata": {},
   "outputs": [
    {
     "data": {
      "text/plain": [
       "True"
      ]
     },
     "execution_count": 3,
     "metadata": {},
     "output_type": "execute_result"
    }
   ],
   "source": [
    "a = tf.constant(1)\n",
    "isinstance(a, tf.Tensor)"
   ]
  },
  {
   "cell_type": "code",
   "execution_count": null,
   "metadata": {},
   "outputs": [
    {
     "name": "stdout",
     "output_type": "stream",
     "text": [
      "<src.turboae_adapters.decoders.TFTurboAEDecoderCNN object at 0x7f45d0230ee0>\n",
      "<src.turboae_adapters.decoders.TFTurboAEDecoderCNN object at 0x7f45bc1e1160>\n",
      "../tmp/test_save_weights.h5\n",
      "<src.turboae_adapters.decoders.TFTurboAEDecoderCNN object at 0x7f45bc0dabe0>\n"
     ]
    },
    {
     "data": {
      "text/plain": [
       "<tf.Tensor: shape=(), dtype=bool, numpy=True>"
      ]
     },
     "metadata": {},
     "output_type": "display_data"
    }
   ],
   "source": [
    "code_spec = turboae_binary_exact_nonsys(delay=2)\n",
    "enc_dec = TurboAEHybridEncoderDecoder(\n",
    "    code_spec.noninterleaved_code,\n",
    "    code_spec.interleaved_code,\n",
    "    DECODER_MODEL_PATH,\n",
    "    channel=NoiselessChannel(1.),\n",
    "    block_len=100\n",
    ")\n",
    "enc_dec2 = TurboAEHybridEncoderDecoder(\n",
    "    code_spec.noninterleaved_code,\n",
    "    code_spec.interleaved_code,\n",
    "    DECODER_MODEL_PATH,\n",
    "    channel=NoiselessChannel(1.),\n",
    "    block_len=100\n",
    ")\n",
    "\n",
    "enc_dec.save_weights('../tmp/test_save_weights.h5')\n",
    "enc_dec2.load_weights('../tmp/test_save_weights.h5')\n",
    "\n",
    "\n",
    "test_msg = tf.cast(tf.random.uniform(shape=[20, 100, 1], minval=0, maxval=2, dtype=tf.int32), dtype=tf.float32)\n",
    "tf.reduce_all(enc_dec(test_msg) == enc_dec2(test_msg))"
   ]
  },
  {
   "cell_type": "code",
   "execution_count": null,
   "metadata": {},
   "outputs": [],
   "source": []
  }
 ],
 "metadata": {
  "interpreter": {
   "hash": "4a90e52e46aab268b5a60d5d4a973112b884470e0dd1e30ef308d0891c9e7699"
  },
  "kernelspec": {
   "display_name": "Python 3.9.0 ('turbo')",
   "language": "python",
   "name": "python3"
  },
  "language_info": {
   "codemirror_mode": {
    "name": "ipython",
    "version": 3
   },
   "file_extension": ".py",
   "mimetype": "text/x-python",
   "name": "python",
   "nbconvert_exporter": "python",
   "pygments_lexer": "ipython3",
   "version": "3.9.0"
  },
  "orig_nbformat": 4
 },
 "nbformat": 4,
 "nbformat_minor": 2
}
