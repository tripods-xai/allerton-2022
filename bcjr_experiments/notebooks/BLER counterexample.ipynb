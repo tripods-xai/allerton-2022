{
 "cells": [
  {
   "cell_type": "code",
   "execution_count": 2,
   "id": "9ef85f3d",
   "metadata": {},
   "outputs": [],
   "source": [
    "import numpy as np"
   ]
  },
  {
   "cell_type": "code",
   "execution_count": 35,
   "id": "e9592d9d",
   "metadata": {},
   "outputs": [],
   "source": [
    "def ce(arr, f):\n",
    "    norm = np.sum(arr[f], axis=0)\n",
    "    return -np.sum(arr[f] * np.log(arr[f] / norm))\n",
    "\n",
    "def bler(arr, f):\n",
    "    return 2 - np.sum(np.max(arr[f], axis=0))"
   ]
  },
  {
   "cell_type": "code",
   "execution_count": 36,
   "id": "197c17af",
   "metadata": {},
   "outputs": [
    {
     "name": "stdout",
     "output_type": "stream",
     "text": [
      "[1. 1. 1. 1.]\n"
     ]
    }
   ],
   "source": [
    "T = np.array([\n",
    "    [.24, .26, .2605, .2395], \n",
    "    [.15, .15, .35, .35,],\n",
    "    [.24, .26, .2605, .2395],\n",
    "    [.056, .343, .25, .351]])\n",
    "f1 = [0, 1]\n",
    "f2 = [2, 3]\n",
    "print(np.sum(T, axis=1))"
   ]
  },
  {
   "cell_type": "code",
   "execution_count": 37,
   "id": "c69e43c8",
   "metadata": {},
   "outputs": [
    {
     "data": {
      "text/plain": [
       "1.3438750586638888"
      ]
     },
     "execution_count": 37,
     "metadata": {},
     "output_type": "execute_result"
    }
   ],
   "source": [
    "ce(T, f1)"
   ]
  },
  {
   "cell_type": "code",
   "execution_count": 38,
   "id": "de014fdf",
   "metadata": {},
   "outputs": [
    {
     "data": {
      "text/plain": [
       "0.8"
      ]
     },
     "execution_count": 38,
     "metadata": {},
     "output_type": "execute_result"
    }
   ],
   "source": [
    "bler(T, f1)"
   ]
  },
  {
   "cell_type": "code",
   "execution_count": 39,
   "id": "e9b2a44a",
   "metadata": {},
   "outputs": [
    {
     "data": {
      "text/plain": [
       "1.308267372143544"
      ]
     },
     "execution_count": 39,
     "metadata": {},
     "output_type": "execute_result"
    }
   ],
   "source": [
    "ce(T, f2)"
   ]
  },
  {
   "cell_type": "code",
   "execution_count": 40,
   "id": "bf9ca35e",
   "metadata": {},
   "outputs": [
    {
     "data": {
      "text/plain": [
       "0.8055000000000001"
      ]
     },
     "execution_count": 40,
     "metadata": {},
     "output_type": "execute_result"
    }
   ],
   "source": [
    "bler(T, f2)"
   ]
  },
  {
   "cell_type": "code",
   "execution_count": 42,
   "id": "333dc23d",
   "metadata": {},
   "outputs": [
    {
     "name": "stdout",
     "output_type": "stream",
     "text": [
      "f1 = [0, 1]\n",
      "2*CE(f) = 1.3438750586638888\n",
      "2*BLER(f) = 0.8\n",
      "f2 = [0, 2]\n",
      "2*CE(f) = 1.3862943611198906\n",
      "2*BLER(f) = 1.0\n",
      "f3 = [0, 3]\n",
      "2*CE(f) = 1.308267372143544\n",
      "2*BLER(f) = 0.8055000000000001\n",
      "f4 = [1, 2]\n",
      "2*CE(f) = 1.3438750586638888\n",
      "2*BLER(f) = 0.8\n",
      "f5 = [1, 3]\n",
      "2*CE(f) = 1.3168531071861709\n",
      "2*BLER(f) = 0.806\n",
      "f6 = [2, 3]\n",
      "2*CE(f) = 1.308267372143544\n",
      "2*BLER(f) = 0.8055000000000001\n"
     ]
    }
   ],
   "source": [
    "inc = 1\n",
    "for i in range(4):\n",
    "    for j in range(i+1, 4):\n",
    "        f = [i, j]\n",
    "        print(f'f{inc} = {f}')\n",
    "        print(f'2*CE(f) = {ce(T, f)}')\n",
    "        print(f'2*BLER(f) = {bler(T, f)}')\n",
    "        inc += 1"
   ]
  },
  {
   "cell_type": "code",
   "execution_count": null,
   "id": "b234d53a",
   "metadata": {},
   "outputs": [],
   "source": []
  }
 ],
 "metadata": {
  "kernelspec": {
   "display_name": "Python 3.10.0 64-bit ('turbo': conda)",
   "language": "python",
   "name": "python3100jvsc74a57bd04a90e52e46aab268b5a60d5d4a973112b884470e0dd1e30ef308d0891c9e7699"
  },
  "language_info": {
   "codemirror_mode": {
    "name": "ipython",
    "version": 3
   },
   "file_extension": ".py",
   "mimetype": "text/x-python",
   "name": "python",
   "nbconvert_exporter": "python",
   "pygments_lexer": "ipython3",
   "version": "3.9.0"
  }
 },
 "nbformat": 4,
 "nbformat_minor": 5
}
