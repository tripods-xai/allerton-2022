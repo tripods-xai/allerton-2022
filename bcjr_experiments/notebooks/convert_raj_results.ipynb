{
 "cells": [
  {
   "cell_type": "code",
   "execution_count": 35,
   "metadata": {},
   "outputs": [],
   "source": [
    "# Are exact incremental and scratch flipped?\n",
    "turboae_exact_encoder_decoder_finetune = dict(\n",
    "model_id=\"turboae_exact_encoder_decoder_finetune\",\n",
    "snr=[-3. + 0.5 * i for i in range(13)],\n",
    "ber__mean = [0.2783668041229248, 0.22063438594341278, 0.15497761964797974, 0.09050577878952026, 0.04222999885678291, 0.014854398556053638, 0.003986799158155918, 0.0009911999804899096, 0.00028560005011968315, 9.139999747276306e-05, 3.059999653487466e-05, 1.2199997399875429e-05, 4.4000003072142135e-06],\n",
    "ber__std = [0.12673047184944153, 0.13956765830516815, 0.13846193253993988, 0.11851666122674942, 0.08595540374517441, 0.049815062433481216, 0.023122113198041916, 0.009363080374896526, 0.0033224469516426325, 0.0013615003554150462, 0.0006701287929899991, 0.0004169587919022888, 0.0002366046392126009],\n",
    ")\n",
    "\n",
    "turboae_approximated_encoder_decoder_finetune= dict(\n",
    "model_id=\"turboae_approximated_encoder_decoder_finetune\",\n",
    "snr=[-3. + 0.5 * i for i in range(13)],\n",
    "ber__mean = [0.27120158076286316, 0.20825859904289246, 0.14123938977718353, 0.07858960330486298, 0.03506038710474968, 0.011687995865941048, 0.003513999516144395, 0.0009770001051947474, 0.0003361999988555908, 0.00012719999358523637, 4.2399991798447445e-05, 1.6799998775240965e-05, 3.000000106112566e-06],\n",
    "ber__std = [0.1342250555753708, 0.14430342614650726, 0.13905225694179535, 0.11425294727087021, 0.07802211493253708, 0.042224712669849396, 0.019379455596208572, 0.006742727942764759, 0.003136425744742155, 0.0015607270179316401, 0.000849833304528147, 0.000561893277335912, 0.0002049190952675417],\n",
    ")\n",
    "\n",
    "turboae_exact_encoder_decoder_scratch= dict(\n",
    "model_id=\"turboae_exact_encoder_decoder_scratch\",\n",
    "snr=[-3. + 0.5 * i for i in range(13)],\n",
    "ber__mean = [0.29080235958099365, 0.24066360294818878, 0.1810828149318695, 0.11767179518938065, 0.0644960030913353, 0.02771580219268799, 0.008863000199198723, 0.002417199779301882, 0.0005769999697804451, 0.00014020003436598927, 5.499999679159373e-05, 1.819999670260586e-05, 8.799999704933725e-06],\n",
    "ber__std = [0.1159527376294136, 0.12774401903152466, 0.13174442946910858, 0.12159030139446259, 0.09688173234462738, 0.06366988271474838, 0.033829160034656525, 0.015875836834311485, 0.005807387176901102, 0.0018336878856644034, 0.0011077000526711345, 0.0005193015676923096, 0.000404877559049055] ,\n",
    ")\n",
    "\n",
    "turboae_approximated_bd_decoder_finetune = dict(\n",
    "    model_id=\"turboae_approximated_bd_decoder_finetune\",\n",
    "    snr=[-3. + 0.5 * i for i in range(13)],\n",
    "ber__mean = [0.2616661489009857, 0.2014196217060089, 0.13275858759880066, 0.07365039736032486, 0.0316975936293602, 0.01104739960283041, 0.003346799174323678, 0.0010233999928459525, 0.00038839998887851834, 0.00014320002810563892, 5.1999981224071234e-05, 1.5999999959603883e-05, 6.999998277024133e-06],\n",
    "ber__std = [0.13262680172920227, 0.1408584862947464, 0.13350611925125122, 0.10825507342815399, 0.07123442739248276, 0.03946720436215401, 0.017971238121390343, 0.007199422921985388, 0.0030247855465859175, 0.0015321685932576656, 0.0008973918156698346, 0.0004977438366040587, 0.0002999213174916804],\n",
    ")\n",
    "\n",
    "# tmp = turboae_exact_encoder_decoder_finetune\n",
    "# turboae_exact_encoder_decoder_finetune = turboae_exact_encoder_decoder_scratch\n",
    "# turboae_exact_encoder_decoder_scratch = tmp\n",
    "\n",
    "data = [\n",
    "    turboae_exact_encoder_decoder_finetune,\n",
    "    turboae_approximated_encoder_decoder_finetune,\n",
    "    turboae_exact_encoder_decoder_scratch,\n",
    "    turboae_approximated_bd_decoder_finetune\n",
    "]"
   ]
  },
  {
   "cell_type": "code",
   "execution_count": 36,
   "metadata": {},
   "outputs": [],
   "source": [
    "import math\n",
    "\n",
    "def get_ber_std_confidence(d):\n",
    "    new_d = dict(d)\n",
    "    new_d[\"ber__std_confidence\"] = [std / math.sqrt(50000) for std in new_d[\"ber__std\"]]\n",
    "    return new_d\n",
    "\n",
    "data = [get_ber_std_confidence(datum) for datum in data]"
   ]
  },
  {
   "cell_type": "code",
   "execution_count": 37,
   "metadata": {},
   "outputs": [
    {
     "data": {
      "text/plain": [
       "{'model_id': 'turboae_exact_encoder_decoder_finetune',\n",
       " 'snr': [-3.0,\n",
       "  -2.5,\n",
       "  -2.0,\n",
       "  -1.5,\n",
       "  -1.0,\n",
       "  -0.5,\n",
       "  0.0,\n",
       "  0.5,\n",
       "  1.0,\n",
       "  1.5,\n",
       "  2.0,\n",
       "  2.5,\n",
       "  3.0],\n",
       " 'ber__mean': [0.2783668041229248,\n",
       "  0.22063438594341278,\n",
       "  0.15497761964797974,\n",
       "  0.09050577878952026,\n",
       "  0.04222999885678291,\n",
       "  0.014854398556053638,\n",
       "  0.003986799158155918,\n",
       "  0.0009911999804899096,\n",
       "  0.00028560005011968315,\n",
       "  9.139999747276306e-05,\n",
       "  3.059999653487466e-05,\n",
       "  1.2199997399875429e-05,\n",
       "  4.4000003072142135e-06],\n",
       " 'ber__std': [0.12673047184944153,\n",
       "  0.13956765830516815,\n",
       "  0.13846193253993988,\n",
       "  0.11851666122674942,\n",
       "  0.08595540374517441,\n",
       "  0.049815062433481216,\n",
       "  0.023122113198041916,\n",
       "  0.009363080374896526,\n",
       "  0.0033224469516426325,\n",
       "  0.0013615003554150462,\n",
       "  0.0006701287929899991,\n",
       "  0.0004169587919022888,\n",
       "  0.0002366046392126009],\n",
       " 'ber__std_confidence': [0.0005667558997519495,\n",
       "  0.0006241655428616381,\n",
       "  0.0006192205869105914,\n",
       "  0.0005300226219386506,\n",
       "  0.00038440425161529997,\n",
       "  0.0002227797318093202,\n",
       "  0.00010340523378853357,\n",
       "  4.18729683941257e-05,\n",
       "  1.4858434471019766e-05,\n",
       "  6.088814692196334e-06,\n",
       "  2.996907069611045e-06,\n",
       "  1.8646964050194133e-06,\n",
       "  1.0581281141423759e-06]}"
      ]
     },
     "execution_count": 37,
     "metadata": {},
     "output_type": "execute_result"
    }
   ],
   "source": [
    "data[0]"
   ]
  },
  {
   "cell_type": "code",
   "execution_count": 38,
   "metadata": {},
   "outputs": [
    {
     "data": {
      "text/plain": [
       "[None, None, None, None]"
      ]
     },
     "execution_count": 38,
     "metadata": {},
     "output_type": "execute_result"
    }
   ],
   "source": [
    "\n",
    "\n",
    "import pandas as pd\n",
    "[pd.DataFrame(datum).to_csv(f\"../plot_inputs/{datum['model_id']}.csv\", index=False) for datum in data]"
   ]
  },
  {
   "cell_type": "code",
   "execution_count": null,
   "metadata": {},
   "outputs": [],
   "source": []
  }
 ],
 "metadata": {
  "kernelspec": {
   "display_name": "Python 3.8.10 ('turbo-codes')",
   "language": "python",
   "name": "python3"
  },
  "language_info": {
   "codemirror_mode": {
    "name": "ipython",
    "version": 3
   },
   "file_extension": ".py",
   "mimetype": "text/x-python",
   "name": "python",
   "nbconvert_exporter": "python",
   "pygments_lexer": "ipython3",
   "version": "3.8.10"
  },
  "orig_nbformat": 4,
  "vscode": {
   "interpreter": {
    "hash": "d295648d7b97c4542d27f42be2578e1178ec632847ecbc7932f89911961cc07f"
   }
  }
 },
 "nbformat": 4,
 "nbformat_minor": 2
}
